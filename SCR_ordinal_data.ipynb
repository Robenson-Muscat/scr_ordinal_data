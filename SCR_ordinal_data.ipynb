{
 "cells": [
  {
   "cell_type": "code",
   "execution_count": 1,
   "metadata": {},
   "outputs": [],
   "source": [
    "import numpy as np\n",
    "import pandas as pd\n",
    "from scipy.linalg import cholesky\n",
    "%matplotlib ipympl"
   ]
  },
  {
   "cell_type": "code",
   "execution_count": 2,
   "metadata": {},
   "outputs": [],
   "source": [
    "from src.randmixtw import randmixtw\n",
    "from src.idx import idx\n",
    "from src.margX import margX\n",
    "from src.pllik_obs import pllik_obs\n",
    "from src.EMtw import EMtw"
   ]
  },
  {
   "cell_type": "markdown",
   "metadata": {},
   "source": [
    "# SCR pour les variables ordinales\n",
    "\n",
    "Ce notebook se base sur l'article [*A MODEL-BASED APPROACH TO SIMULTANEOUS CLUSTERING AND DIMENSIONAL REDUCTION OF ORDINAL DATA*](https://ecampus.paris-saclay.fr/pluginfile.php/3267823/mod_folder/content/0/articles/Ranalli-2017-s11336-017-9578-5.pdf) écrit par M. Ranalli et R. Rocci. \n",
    "\n",
    "Cet article propose une méthode de clustering et de réduction de dimension (SCR), pour des variables ordinales, basées sur un algotithme EM-Pairwise."
   ]
  },
  {
   "cell_type": "markdown",
   "metadata": {},
   "source": [
    "## Simulation de données "
   ]
  },
  {
   "cell_type": "code",
   "execution_count": 3,
   "metadata": {},
   "outputs": [],
   "source": [
    "# Paramètres d'entrée\n",
    "np.random.seed(123)\n",
    "N, P, G = 500, 4, 3"
   ]
  },
  {
   "cell_type": "code",
   "execution_count": 4,
   "metadata": {},
   "outputs": [],
   "source": [
    "# Génération des paramètres de mélange\n",
    "Mu = [np.zeros(P), 2 + np.random.randn(P), 4 + np.random.randn(P)] \n",
    "Sigma = []\n",
    "## Paramètres pour la composante de bruit du mélange\n",
    "S = np.random.randn(P, P)\n",
    "A = np.linalg.cholesky(S.T @ S)\n",
    "np.fill_diagonal(A, 1)\n",
    "Sigma.append(A.T @ A)\n",
    "## Paramètres pour les composantes discriminantes du mélange\n",
    "for g in range(1,G):\n",
    "    S = np.random.randn(P, P) # Génération d'une matrice de taille P*P\n",
    "    Sigma.append(S.T @ S) # Création de la matrice de variance covariance\n",
    "\n",
    "pg = [0.2, 0.3, 0.5] # répartition du mélange\n",
    "no_TH = np.full(P, 5)\n",
    "\n",
    "# Génération du mélange gaussien\n",
    "outx = randmixtw(N, Mu, Sigma, pg, no_TH)"
   ]
  },
  {
   "cell_type": "code",
   "execution_count": 5,
   "metadata": {},
   "outputs": [],
   "source": [
    "# Création de l'espace des paramètres theta\n",
    "\n",
    "# Calcul des matrices de Cholesky des matrices Sigma\n",
    "a = []\n",
    "for g in range(G):\n",
    "    a.append(cholesky(Sigma[g]))\n",
    "  \n",
    "# Paramètres du modèle\n",
    "theta = {\n",
    "    \"ts\": outx[\"ts\"],  # Seuils\n",
    "    \"Mu\": Mu,          # Moyennes\n",
    "    \"Sigma\": Sigma,     # Matrices de covariance\n",
    "    \"a\" : a\n",
    "}  "
   ]
  },
  {
   "cell_type": "code",
   "execution_count": 6,
   "metadata": {},
   "outputs": [
    {
     "name": "stdout",
     "output_type": "stream",
     "text": [
      "La log-vraisemblance observée est :  -3933.9667786440145\n"
     ]
    }
   ],
   "source": [
    "# Calcul des marginales\n",
    "mX = margX(outx['X'], no_TH)\n",
    "\n",
    "# Calcul des indices\n",
    "Ind = idx(P, mX, no_TH)\n",
    "\n",
    "# Calcul de la log vraissemblance observée\n",
    "pll = pllik_obs(theta, pg, Ind, P, G)\n",
    "print(\"La log-vraisemblance observée est : \", pll)"
   ]
  },
  {
   "cell_type": "markdown",
   "metadata": {},
   "source": [
    "## Test de l'algorithme dans le cas où les données initials sont les vrais données"
   ]
  },
  {
   "cell_type": "code",
   "execution_count": 7,
   "metadata": {},
   "outputs": [
    {
     "name": "stdout",
     "output_type": "stream",
     "text": [
      "|-------------|-------------|-------------|-------------|\n",
      "|     iter    |    imp      |     lik     |  llik-llko  |\n",
      "|-------------|-------------|-------------|-------------|\n",
      "          1 |     5084.23 |     -3170.1 |         inf\n",
      "          2 |     3677.24 |    -3267.73 |    -97.6274\n",
      "|-------------|-------------|-------------|-------------|\n",
      "pg  [0.45719509 0.27821381 0.2645911 ]\n",
      "\n",
      "mu  [[ 0.          0.          0.          0.        ]\n",
      " [ 0.63759347  2.52079684  0.42504077 -3.58428218]\n",
      " [ 0.40530901  1.680585   -0.30656033  2.37746121]]\n",
      "\n",
      "Sigma  [array([[ 1.        ,  3.65210121, -2.00374012,  0.30990031],\n",
      "       [ 3.65210121, 14.33784326, -7.74434092, -0.51294452],\n",
      "       [-2.00374012, -7.74434092,  5.19685897, -0.16737261],\n",
      "       [ 0.30990031, -0.51294452, -0.16737261,  3.86261399]]), array([[ 4.98555435,  5.70477973, -1.73604616,  4.90508304],\n",
      "       [ 5.70477973, 17.48022737, -1.73905228, -3.21723752],\n",
      "       [-1.73604616, -1.73905228,  9.77766034, -1.44741206],\n",
      "       [ 4.90508304, -3.21723752, -1.44741206, 11.98696504]]), array([[ 5.2725022 ,  8.46391536, -2.15279056,  7.18665975],\n",
      "       [ 8.46391536, 24.66380709, -3.37507359, -1.90024368],\n",
      "       [-2.15279056, -3.37507359,  9.72110672, -1.73569959],\n",
      "       [ 7.18665975, -1.90024368, -1.73569959, 26.33551207]])]\n"
     ]
    }
   ],
   "source": [
    "out_1 = EMtw(theta, pg, mX, Ind, G, P, no_TH, tol = 1e-4)\n",
    "\n",
    "print(\"pg \", out_1[\"pg\"])\n",
    "print(\"\\nmu \", out_1[\"mu\"])\n",
    "print(\"\\nSigma \", out_1[\"sigma\"])"
   ]
  },
  {
   "cell_type": "code",
   "execution_count": 9,
   "metadata": {},
   "outputs": [
    {
     "name": "stdout",
     "output_type": "stream",
     "text": [
      "pg  [0.2, 0.3, 0.5]\n",
      "\n",
      "mu  [array([0., 0., 0., 0.]), array([0.9143694 , 2.99734545, 2.2829785 , 0.49370529]), array([3.42139975, 5.65143654, 1.57332076, 3.57108737])]\n",
      "\n",
      "Sigma  [array([[ 2.7219606 ,  1.58814553, -0.23774124,  0.3129903 ],\n",
      "       [ 1.58814553,  2.42773383, -0.10968452,  1.00030977],\n",
      "       [-0.23774124, -0.10968452,  1.58215056, -0.76298792],\n",
      "       [ 0.3129903 ,  1.00030977, -0.76298792,  1.        ]]), array([[ 4.73017361,  2.1621835 , -2.74713088,  2.49179844],\n",
      "       [ 2.1621835 ,  2.11282712, -1.61265319,  3.63956355],\n",
      "       [-2.74713088, -1.61265319,  2.52195184, -0.99109121],\n",
      "       [ 2.49179844,  3.63956355, -0.99109121,  9.98382333]]), array([[ 4.76171427,  2.18636121, -0.0899626 ,  0.52556341],\n",
      "       [ 2.18636121,  8.63117157, -2.27299474, -4.17456998],\n",
      "       [-0.0899626 , -2.27299474,  7.55175213,  2.13955745],\n",
      "       [ 0.52556341, -4.17456998,  2.13955745,  2.72226721]])]\n"
     ]
    }
   ],
   "source": [
    "print(\"pg \", [0.2, 0.3, 0.5])\n",
    "print(\"\\nmu \", theta[\"Mu\"])\n",
    "print(\"\\nSigma \", theta[\"Sigma\"])"
   ]
  },
  {
   "cell_type": "markdown",
   "metadata": {},
   "source": [
    "## Test de l'algorithme dans le cas de données prises aléatoirement "
   ]
  },
  {
   "cell_type": "code",
   "execution_count": 21,
   "metadata": {},
   "outputs": [],
   "source": [
    "np.random.seed(4)\n",
    "N, P, G = 500, 4, 3\n",
    "\n",
    "# initialisation des poids\n",
    "pg = np.random.rand(G)\n",
    "pg /= np.sum(pg)\n",
    "\n",
    "# initialisation des moyennes et variances\n",
    "mu = []\n",
    "sigma = []\n",
    "# ts = [np.array([-100000, -40, 0, 20, 80, 10000])/2]\n",
    "a=[]\n",
    "for g in range(G):\n",
    "    mu.append(np.random.rand(P)*2)\n",
    "    S = np.random.randn(P,P)*2\n",
    "    sigma.append(S.T@S)\n",
    "    # ts.append(np.array([-100000, -40, 0, 20, 80, 10000])/2)\n",
    "    a.append(cholesky(sigma[g]))\n",
    "    \n",
    "theta0 = {\n",
    "    \"ts\": theta[\"ts\"],  # Seuils\n",
    "    \"Mu\": mu,          # Moyennes\n",
    "    \"Sigma\": sigma,     # Matrices de covariance\n",
    "    \"a\" : a\n",
    "}"
   ]
  },
  {
   "cell_type": "code",
   "execution_count": 23,
   "metadata": {},
   "outputs": [
    {
     "name": "stdout",
     "output_type": "stream",
     "text": [
      "[array([-1.00000000e+05, -3.11501633e+00, -8.49713251e-01,  1.41558983e+00,\n",
      "        3.68089291e+00,  1.00000000e+05]), array([-1.00000000e+05, -1.07745909e+00,  2.04330865e+00,  5.16407638e+00,\n",
      "        8.28484412e+00,  1.00000000e+05]), array([-1.00000000e+05, -1.96949552e+00,  3.75687927e-01,  2.72087137e+00,\n",
      "        5.06605482e+00,  1.00000000e+05]), array([-1.00000000e+05, -8.66188547e-01,  1.84512261e+00,  4.55643377e+00,\n",
      "        7.26774493e+00,  1.00000000e+05])]\n"
     ]
    }
   ],
   "source": [
    "print(theta0[\"ts\"])"
   ]
  },
  {
   "cell_type": "markdown",
   "metadata": {},
   "source": [
    "Il manque à calculer les probabilités a posteriori pour chaque individu. Ici, notre algorithme EM-pairwise nous donne ces probabilités pour les couples de réponses. "
   ]
  },
  {
   "cell_type": "code",
   "execution_count": 24,
   "metadata": {},
   "outputs": [
    {
     "name": "stdout",
     "output_type": "stream",
     "text": [
      "|-------------|-------------|-------------|-------------|\n",
      "|     iter    |    imp      |     lik     |  llik-llko  |\n",
      "|-------------|-------------|-------------|-------------|\n",
      "          1 |     3764.87 |    -3968.21 |         inf\n",
      "          2 |     3680.18 |    -3668.31 |     299.905\n",
      "          3 |     2024.61 |    -3561.03 |      107.28\n",
      "          4 |     1830.66 |    -3568.42 |     17.2671\n",
      "          5 |     3075.38 |    -3604.66 |     68.9714\n",
      "          6 |     3650.14 |    -3549.31 |      116.47\n",
      "          7 |     3514.63 |    -3843.66 |     307.914\n",
      "          8 |      7718.3 |    -3661.31 |     117.819\n",
      "          9 |     819.675 |    -4030.36 |     171.196\n",
      "         10 |       732.9 |    -3792.94 |     75.9851\n",
      "         11 |      581.64 |    -3981.75 |     65.2152\n",
      "         12 |     574.978 |    -3839.02 |     44.4712\n",
      "         13 |     617.287 |    -3835.99 |     1.24017\n",
      "         14 |     672.896 |    -3785.68 |     23.1907\n",
      "         15 |     1189.17 |    -3823.05 |      17.716\n",
      "         16 |     1271.56 |    -3716.37 |     60.6489\n",
      "         17 |     1475.18 |    -3750.36 |     23.0027\n",
      "         18 |     1018.87 |    -3849.14 |      48.381\n",
      "         19 |     812.224 |    -3908.31 |     20.5059\n",
      "         20 |     1251.58 |    -3820.86 |     32.2002\n",
      "         21 |     1440.86 |    -3754.82 |      33.969\n",
      "         22 |     1952.19 |    -3712.37 |     28.7303\n",
      "         23 |     7322.76 |    -4117.96 |     141.494\n"
     ]
    },
    {
     "name": "stderr",
     "output_type": "stream",
     "text": [
      "/Users/enzob/Desktop/études/M2 MIA/Periode 1&2/NSA/article/src/parl2v.py:31: RuntimeWarning: invalid value encountered in log\n",
      "  param0 = np.concatenate([param0, [ts_clean[0]], np.log(np.diff(ts_clean))])\n"
     ]
    },
    {
     "ename": "ValueError",
     "evalue": "array must not contain infs or NaNs",
     "output_type": "error",
     "traceback": [
      "\u001b[0;31m---------------------------------------------------------------------------\u001b[0m",
      "\u001b[0;31mValueError\u001b[0m                                Traceback (most recent call last)",
      "Cell \u001b[0;32mIn[24], line 1\u001b[0m\n\u001b[0;32m----> 1\u001b[0m out_2 \u001b[38;5;241m=\u001b[39m \u001b[43mEMtw\u001b[49m\u001b[43m(\u001b[49m\u001b[43mtheta0\u001b[49m\u001b[43m,\u001b[49m\u001b[43m \u001b[49m\u001b[43mpg\u001b[49m\u001b[43m,\u001b[49m\u001b[43m \u001b[49m\u001b[43mmX\u001b[49m\u001b[43m,\u001b[49m\u001b[43m \u001b[49m\u001b[43mInd\u001b[49m\u001b[43m,\u001b[49m\u001b[43m \u001b[49m\u001b[43mG\u001b[49m\u001b[43m,\u001b[49m\u001b[43m \u001b[49m\u001b[43mP\u001b[49m\u001b[43m,\u001b[49m\u001b[43m \u001b[49m\u001b[43mno_TH\u001b[49m\u001b[43m,\u001b[49m\u001b[43m \u001b[49m\u001b[43mtol\u001b[49m\u001b[43m \u001b[49m\u001b[38;5;241;43m=\u001b[39;49m\u001b[43m \u001b[49m\u001b[38;5;241;43m1e-4\u001b[39;49m\u001b[43m)\u001b[49m\n\u001b[1;32m      3\u001b[0m \u001b[38;5;28mprint\u001b[39m(\u001b[38;5;124m\"\u001b[39m\u001b[38;5;124mpg \u001b[39m\u001b[38;5;124m\"\u001b[39m, out_1[\u001b[38;5;124m\"\u001b[39m\u001b[38;5;124mpg\u001b[39m\u001b[38;5;124m\"\u001b[39m])\n\u001b[1;32m      4\u001b[0m \u001b[38;5;28mprint\u001b[39m(\u001b[38;5;124m\"\u001b[39m\u001b[38;5;130;01m\\n\u001b[39;00m\u001b[38;5;124mmu \u001b[39m\u001b[38;5;124m\"\u001b[39m, out_1[\u001b[38;5;124m\"\u001b[39m\u001b[38;5;124mmu\u001b[39m\u001b[38;5;124m\"\u001b[39m])\n",
      "File \u001b[0;32m~/Desktop/études/M2 MIA/Periode 1&2/NSA/article/src/EMtw.py:43\u001b[0m, in \u001b[0;36mEMtw\u001b[0;34m(theta, pg, mX, Ind, G, P, no_TH, tol)\u001b[0m\n\u001b[1;32m     40\u001b[0m entr \u001b[38;5;241m=\u001b[39m \u001b[38;5;241m-\u001b[39mnp\u001b[38;5;241m.\u001b[39msum(np\u001b[38;5;241m.\u001b[39mdot(Ind[:, \u001b[38;5;241m5\u001b[39m]\u001b[38;5;241m.\u001b[39mT, U \u001b[38;5;241m*\u001b[39m np\u001b[38;5;241m.\u001b[39mlog(U)))\n\u001b[1;32m     42\u001b[0m \u001b[38;5;66;03m# Étape M\u001b[39;00m\n\u001b[0;32m---> 43\u001b[0m M \u001b[38;5;241m=\u001b[39m \u001b[43mM_step\u001b[49m\u001b[43m(\u001b[49m\u001b[43mtheta\u001b[49m\u001b[43m,\u001b[49m\u001b[43m \u001b[49m\u001b[43mU\u001b[49m\u001b[43m,\u001b[49m\u001b[43m \u001b[49m\u001b[43mmX\u001b[49m\u001b[43m,\u001b[49m\u001b[43m \u001b[49m\u001b[43mInd\u001b[49m\u001b[43m,\u001b[49m\u001b[43m \u001b[49m\u001b[43mP\u001b[49m\u001b[43m,\u001b[49m\u001b[43m \u001b[49m\u001b[43mno_TH\u001b[49m\u001b[43m,\u001b[49m\u001b[43m \u001b[49m\u001b[43mG\u001b[49m\u001b[43m,\u001b[49m\u001b[43m \u001b[49m\u001b[43mparl2v\u001b[49m\u001b[43m,\u001b[49m\u001b[43m \u001b[49m\u001b[43mpcllikf1\u001b[49m\u001b[43m,\u001b[49m\u001b[43m \u001b[49m\u001b[43mparv2l\u001b[49m\u001b[43m)\u001b[49m\n\u001b[1;32m     44\u001b[0m theta \u001b[38;5;241m=\u001b[39m M[\u001b[38;5;124m'\u001b[39m\u001b[38;5;124mtheta\u001b[39m\u001b[38;5;124m'\u001b[39m]\n\u001b[1;32m     45\u001b[0m pg \u001b[38;5;241m=\u001b[39m M[\u001b[38;5;124m'\u001b[39m\u001b[38;5;124mpg\u001b[39m\u001b[38;5;124m'\u001b[39m]\n",
      "File \u001b[0;32m~/Desktop/études/M2 MIA/Periode 1&2/NSA/article/src/M_step.py:41\u001b[0m, in \u001b[0;36mM_step\u001b[0;34m(theta0, U, mX, Ind, P, no_TH, G, parl2v, pcllikf1, parv2l)\u001b[0m\n\u001b[1;32m     39\u001b[0m ctrl \u001b[38;5;241m=\u001b[39m \u001b[38;5;241m1\u001b[39m\n\u001b[1;32m     40\u001b[0m \u001b[38;5;66;03m# Optimisation avec L-BFGS-B\u001b[39;00m\n\u001b[0;32m---> 41\u001b[0m result \u001b[38;5;241m=\u001b[39m \u001b[43mminimize\u001b[49m\u001b[43m(\u001b[49m\n\u001b[1;32m     42\u001b[0m \u001b[43m    \u001b[49m\u001b[43mfun\u001b[49m\u001b[38;5;241;43m=\u001b[39;49m\u001b[38;5;28;43;01mlambda\u001b[39;49;00m\u001b[43m \u001b[49m\u001b[43mparams\u001b[49m\u001b[43m:\u001b[49m\u001b[43m \u001b[49m\u001b[38;5;241;43m-\u001b[39;49m\u001b[43mpcllikf1\u001b[49m\u001b[43m(\u001b[49m\u001b[43mparams\u001b[49m\u001b[43m,\u001b[49m\u001b[43m \u001b[49m\u001b[43mU\u001b[49m\u001b[43m,\u001b[49m\u001b[43m \u001b[49m\u001b[43mInd\u001b[49m\u001b[43m,\u001b[49m\u001b[43m \u001b[49m\u001b[43mP\u001b[49m\u001b[43m,\u001b[49m\u001b[43m \u001b[49m\u001b[43mno_TH\u001b[49m\u001b[43m,\u001b[49m\u001b[43m \u001b[49m\u001b[43mG\u001b[49m\u001b[43m,\u001b[49m\u001b[43m \u001b[49m\u001b[43mparv2l\u001b[49m\u001b[43m)\u001b[49m\u001b[43m,\u001b[49m\u001b[43m  \u001b[49m\u001b[38;5;66;43;03m# Maximiser => Minimiser l'opposé\u001b[39;49;00m\n\u001b[1;32m     43\u001b[0m \u001b[43m    \u001b[49m\u001b[43mx0\u001b[49m\u001b[38;5;241;43m=\u001b[39;49m\u001b[43mthetav0\u001b[49m\u001b[43m,\u001b[49m\n\u001b[1;32m     44\u001b[0m \u001b[43m    \u001b[49m\u001b[43mmethod\u001b[49m\u001b[38;5;241;43m=\u001b[39;49m\u001b[38;5;124;43m\"\u001b[39;49m\u001b[38;5;124;43mL-BFGS-B\u001b[39;49m\u001b[38;5;124;43m\"\u001b[39;49m\u001b[43m,\u001b[49m\n\u001b[1;32m     45\u001b[0m \u001b[43m    \u001b[49m\u001b[43moptions\u001b[49m\u001b[38;5;241;43m=\u001b[39;49m\u001b[43m{\u001b[49m\u001b[38;5;124;43m\"\u001b[39;49m\u001b[38;5;124;43mmaxiter\u001b[39;49m\u001b[38;5;124;43m\"\u001b[39;49m\u001b[43m:\u001b[49m\u001b[43m \u001b[49m\u001b[38;5;28;43mmax\u001b[39;49m\u001b[43m(\u001b[49m\u001b[38;5;241;43m1\u001b[39;49m\u001b[43m,\u001b[49m\u001b[43m \u001b[49m\u001b[38;5;28;43mround\u001b[39;49m\u001b[43m(\u001b[49m\u001b[43mnpar\u001b[49m\u001b[43m \u001b[49m\u001b[38;5;241;43m/\u001b[39;49m\u001b[43m \u001b[49m\u001b[38;5;241;43m4\u001b[39;49m\u001b[43m)\u001b[49m\u001b[43m)\u001b[49m\u001b[43m,\u001b[49m\u001b[43m \u001b[49m\u001b[38;5;124;43m\"\u001b[39;49m\u001b[38;5;124;43mdisp\u001b[39;49m\u001b[38;5;124;43m\"\u001b[39;49m\u001b[43m:\u001b[49m\u001b[43m \u001b[49m\u001b[38;5;28;43;01mFalse\u001b[39;49;00m\u001b[43m}\u001b[49m\n\u001b[1;32m     46\u001b[0m \u001b[43m\u001b[49m\u001b[43m)\u001b[49m\n\u001b[1;32m     48\u001b[0m \u001b[38;5;66;03m# Vérification de l'amélioration de la log-vraisemblance\u001b[39;00m\n\u001b[1;32m     49\u001b[0m \u001b[38;5;28;01mif\u001b[39;00m (result\u001b[38;5;241m.\u001b[39mfun \u001b[38;5;241m-\u001b[39m oldvalue) \u001b[38;5;241m<\u001b[39m \u001b[38;5;241m0\u001b[39m:\n",
      "File \u001b[0;32m~/anaconda3/lib/python3.10/site-packages/scipy/optimize/_minimize.py:696\u001b[0m, in \u001b[0;36mminimize\u001b[0;34m(fun, x0, args, method, jac, hess, hessp, bounds, constraints, tol, callback, options)\u001b[0m\n\u001b[1;32m    693\u001b[0m     res \u001b[38;5;241m=\u001b[39m _minimize_newtoncg(fun, x0, args, jac, hess, hessp, callback,\n\u001b[1;32m    694\u001b[0m                              \u001b[38;5;241m*\u001b[39m\u001b[38;5;241m*\u001b[39moptions)\n\u001b[1;32m    695\u001b[0m \u001b[38;5;28;01melif\u001b[39;00m meth \u001b[38;5;241m==\u001b[39m \u001b[38;5;124m'\u001b[39m\u001b[38;5;124ml-bfgs-b\u001b[39m\u001b[38;5;124m'\u001b[39m:\n\u001b[0;32m--> 696\u001b[0m     res \u001b[38;5;241m=\u001b[39m \u001b[43m_minimize_lbfgsb\u001b[49m\u001b[43m(\u001b[49m\u001b[43mfun\u001b[49m\u001b[43m,\u001b[49m\u001b[43m \u001b[49m\u001b[43mx0\u001b[49m\u001b[43m,\u001b[49m\u001b[43m \u001b[49m\u001b[43margs\u001b[49m\u001b[43m,\u001b[49m\u001b[43m \u001b[49m\u001b[43mjac\u001b[49m\u001b[43m,\u001b[49m\u001b[43m \u001b[49m\u001b[43mbounds\u001b[49m\u001b[43m,\u001b[49m\n\u001b[1;32m    697\u001b[0m \u001b[43m                           \u001b[49m\u001b[43mcallback\u001b[49m\u001b[38;5;241;43m=\u001b[39;49m\u001b[43mcallback\u001b[49m\u001b[43m,\u001b[49m\u001b[43m \u001b[49m\u001b[38;5;241;43m*\u001b[39;49m\u001b[38;5;241;43m*\u001b[39;49m\u001b[43moptions\u001b[49m\u001b[43m)\u001b[49m\n\u001b[1;32m    698\u001b[0m \u001b[38;5;28;01melif\u001b[39;00m meth \u001b[38;5;241m==\u001b[39m \u001b[38;5;124m'\u001b[39m\u001b[38;5;124mtnc\u001b[39m\u001b[38;5;124m'\u001b[39m:\n\u001b[1;32m    699\u001b[0m     res \u001b[38;5;241m=\u001b[39m _minimize_tnc(fun, x0, args, jac, bounds, callback\u001b[38;5;241m=\u001b[39mcallback,\n\u001b[1;32m    700\u001b[0m                         \u001b[38;5;241m*\u001b[39m\u001b[38;5;241m*\u001b[39moptions)\n",
      "File \u001b[0;32m~/anaconda3/lib/python3.10/site-packages/scipy/optimize/_lbfgsb_py.py:359\u001b[0m, in \u001b[0;36m_minimize_lbfgsb\u001b[0;34m(fun, x0, args, jac, bounds, disp, maxcor, ftol, gtol, eps, maxfun, maxiter, iprint, callback, maxls, finite_diff_rel_step, **unknown_options)\u001b[0m\n\u001b[1;32m    353\u001b[0m task_str \u001b[38;5;241m=\u001b[39m task\u001b[38;5;241m.\u001b[39mtobytes()\n\u001b[1;32m    354\u001b[0m \u001b[38;5;28;01mif\u001b[39;00m task_str\u001b[38;5;241m.\u001b[39mstartswith(\u001b[38;5;124mb\u001b[39m\u001b[38;5;124m'\u001b[39m\u001b[38;5;124mFG\u001b[39m\u001b[38;5;124m'\u001b[39m):\n\u001b[1;32m    355\u001b[0m     \u001b[38;5;66;03m# The minimization routine wants f and g at the current x.\u001b[39;00m\n\u001b[1;32m    356\u001b[0m     \u001b[38;5;66;03m# Note that interruptions due to maxfun are postponed\u001b[39;00m\n\u001b[1;32m    357\u001b[0m     \u001b[38;5;66;03m# until the completion of the current minimization iteration.\u001b[39;00m\n\u001b[1;32m    358\u001b[0m     \u001b[38;5;66;03m# Overwrite f and g:\u001b[39;00m\n\u001b[0;32m--> 359\u001b[0m     f, g \u001b[38;5;241m=\u001b[39m \u001b[43mfunc_and_grad\u001b[49m\u001b[43m(\u001b[49m\u001b[43mx\u001b[49m\u001b[43m)\u001b[49m\n\u001b[1;32m    360\u001b[0m \u001b[38;5;28;01melif\u001b[39;00m task_str\u001b[38;5;241m.\u001b[39mstartswith(\u001b[38;5;124mb\u001b[39m\u001b[38;5;124m'\u001b[39m\u001b[38;5;124mNEW_X\u001b[39m\u001b[38;5;124m'\u001b[39m):\n\u001b[1;32m    361\u001b[0m     \u001b[38;5;66;03m# new iteration\u001b[39;00m\n\u001b[1;32m    362\u001b[0m     n_iterations \u001b[38;5;241m+\u001b[39m\u001b[38;5;241m=\u001b[39m \u001b[38;5;241m1\u001b[39m\n",
      "File \u001b[0;32m~/anaconda3/lib/python3.10/site-packages/scipy/optimize/_differentiable_functions.py:285\u001b[0m, in \u001b[0;36mScalarFunction.fun_and_grad\u001b[0;34m(self, x)\u001b[0m\n\u001b[1;32m    283\u001b[0m \u001b[38;5;28;01mif\u001b[39;00m \u001b[38;5;129;01mnot\u001b[39;00m np\u001b[38;5;241m.\u001b[39marray_equal(x, \u001b[38;5;28mself\u001b[39m\u001b[38;5;241m.\u001b[39mx):\n\u001b[1;32m    284\u001b[0m     \u001b[38;5;28mself\u001b[39m\u001b[38;5;241m.\u001b[39m_update_x_impl(x)\n\u001b[0;32m--> 285\u001b[0m \u001b[38;5;28;43mself\u001b[39;49m\u001b[38;5;241;43m.\u001b[39;49m\u001b[43m_update_fun\u001b[49m\u001b[43m(\u001b[49m\u001b[43m)\u001b[49m\n\u001b[1;32m    286\u001b[0m \u001b[38;5;28mself\u001b[39m\u001b[38;5;241m.\u001b[39m_update_grad()\n\u001b[1;32m    287\u001b[0m \u001b[38;5;28;01mreturn\u001b[39;00m \u001b[38;5;28mself\u001b[39m\u001b[38;5;241m.\u001b[39mf, \u001b[38;5;28mself\u001b[39m\u001b[38;5;241m.\u001b[39mg\n",
      "File \u001b[0;32m~/anaconda3/lib/python3.10/site-packages/scipy/optimize/_differentiable_functions.py:251\u001b[0m, in \u001b[0;36mScalarFunction._update_fun\u001b[0;34m(self)\u001b[0m\n\u001b[1;32m    249\u001b[0m \u001b[38;5;28;01mdef\u001b[39;00m \u001b[38;5;21m_update_fun\u001b[39m(\u001b[38;5;28mself\u001b[39m):\n\u001b[1;32m    250\u001b[0m     \u001b[38;5;28;01mif\u001b[39;00m \u001b[38;5;129;01mnot\u001b[39;00m \u001b[38;5;28mself\u001b[39m\u001b[38;5;241m.\u001b[39mf_updated:\n\u001b[0;32m--> 251\u001b[0m         \u001b[38;5;28;43mself\u001b[39;49m\u001b[38;5;241;43m.\u001b[39;49m\u001b[43m_update_fun_impl\u001b[49m\u001b[43m(\u001b[49m\u001b[43m)\u001b[49m\n\u001b[1;32m    252\u001b[0m         \u001b[38;5;28mself\u001b[39m\u001b[38;5;241m.\u001b[39mf_updated \u001b[38;5;241m=\u001b[39m \u001b[38;5;28;01mTrue\u001b[39;00m\n",
      "File \u001b[0;32m~/anaconda3/lib/python3.10/site-packages/scipy/optimize/_differentiable_functions.py:155\u001b[0m, in \u001b[0;36mScalarFunction.__init__.<locals>.update_fun\u001b[0;34m()\u001b[0m\n\u001b[1;32m    154\u001b[0m \u001b[38;5;28;01mdef\u001b[39;00m \u001b[38;5;21mupdate_fun\u001b[39m():\n\u001b[0;32m--> 155\u001b[0m     \u001b[38;5;28mself\u001b[39m\u001b[38;5;241m.\u001b[39mf \u001b[38;5;241m=\u001b[39m \u001b[43mfun_wrapped\u001b[49m\u001b[43m(\u001b[49m\u001b[38;5;28;43mself\u001b[39;49m\u001b[38;5;241;43m.\u001b[39;49m\u001b[43mx\u001b[49m\u001b[43m)\u001b[49m\n",
      "File \u001b[0;32m~/anaconda3/lib/python3.10/site-packages/scipy/optimize/_differentiable_functions.py:137\u001b[0m, in \u001b[0;36mScalarFunction.__init__.<locals>.fun_wrapped\u001b[0;34m(x)\u001b[0m\n\u001b[1;32m    133\u001b[0m \u001b[38;5;28mself\u001b[39m\u001b[38;5;241m.\u001b[39mnfev \u001b[38;5;241m+\u001b[39m\u001b[38;5;241m=\u001b[39m \u001b[38;5;241m1\u001b[39m\n\u001b[1;32m    134\u001b[0m \u001b[38;5;66;03m# Send a copy because the user may overwrite it.\u001b[39;00m\n\u001b[1;32m    135\u001b[0m \u001b[38;5;66;03m# Overwriting results in undefined behaviour because\u001b[39;00m\n\u001b[1;32m    136\u001b[0m \u001b[38;5;66;03m# fun(self.x) will change self.x, with the two no longer linked.\u001b[39;00m\n\u001b[0;32m--> 137\u001b[0m fx \u001b[38;5;241m=\u001b[39m \u001b[43mfun\u001b[49m\u001b[43m(\u001b[49m\u001b[43mnp\u001b[49m\u001b[38;5;241;43m.\u001b[39;49m\u001b[43mcopy\u001b[49m\u001b[43m(\u001b[49m\u001b[43mx\u001b[49m\u001b[43m)\u001b[49m\u001b[43m,\u001b[49m\u001b[43m \u001b[49m\u001b[38;5;241;43m*\u001b[39;49m\u001b[43margs\u001b[49m\u001b[43m)\u001b[49m\n\u001b[1;32m    138\u001b[0m \u001b[38;5;66;03m# Make sure the function returns a true scalar\u001b[39;00m\n\u001b[1;32m    139\u001b[0m \u001b[38;5;28;01mif\u001b[39;00m \u001b[38;5;129;01mnot\u001b[39;00m np\u001b[38;5;241m.\u001b[39misscalar(fx):\n",
      "File \u001b[0;32m~/Desktop/études/M2 MIA/Periode 1&2/NSA/article/src/M_step.py:42\u001b[0m, in \u001b[0;36mM_step.<locals>.<lambda>\u001b[0;34m(params)\u001b[0m\n\u001b[1;32m     39\u001b[0m ctrl \u001b[38;5;241m=\u001b[39m \u001b[38;5;241m1\u001b[39m\n\u001b[1;32m     40\u001b[0m \u001b[38;5;66;03m# Optimisation avec L-BFGS-B\u001b[39;00m\n\u001b[1;32m     41\u001b[0m result \u001b[38;5;241m=\u001b[39m minimize(\n\u001b[0;32m---> 42\u001b[0m     fun\u001b[38;5;241m=\u001b[39m\u001b[38;5;28;01mlambda\u001b[39;00m params: \u001b[38;5;241m-\u001b[39m\u001b[43mpcllikf1\u001b[49m\u001b[43m(\u001b[49m\u001b[43mparams\u001b[49m\u001b[43m,\u001b[49m\u001b[43m \u001b[49m\u001b[43mU\u001b[49m\u001b[43m,\u001b[49m\u001b[43m \u001b[49m\u001b[43mInd\u001b[49m\u001b[43m,\u001b[49m\u001b[43m \u001b[49m\u001b[43mP\u001b[49m\u001b[43m,\u001b[49m\u001b[43m \u001b[49m\u001b[43mno_TH\u001b[49m\u001b[43m,\u001b[49m\u001b[43m \u001b[49m\u001b[43mG\u001b[49m\u001b[43m,\u001b[49m\u001b[43m \u001b[49m\u001b[43mparv2l\u001b[49m\u001b[43m)\u001b[49m,  \u001b[38;5;66;03m# Maximiser => Minimiser l'opposé\u001b[39;00m\n\u001b[1;32m     43\u001b[0m     x0\u001b[38;5;241m=\u001b[39mthetav0,\n\u001b[1;32m     44\u001b[0m     method\u001b[38;5;241m=\u001b[39m\u001b[38;5;124m\"\u001b[39m\u001b[38;5;124mL-BFGS-B\u001b[39m\u001b[38;5;124m\"\u001b[39m,\n\u001b[1;32m     45\u001b[0m     options\u001b[38;5;241m=\u001b[39m{\u001b[38;5;124m\"\u001b[39m\u001b[38;5;124mmaxiter\u001b[39m\u001b[38;5;124m\"\u001b[39m: \u001b[38;5;28mmax\u001b[39m(\u001b[38;5;241m1\u001b[39m, \u001b[38;5;28mround\u001b[39m(npar \u001b[38;5;241m/\u001b[39m \u001b[38;5;241m4\u001b[39m)), \u001b[38;5;124m\"\u001b[39m\u001b[38;5;124mdisp\u001b[39m\u001b[38;5;124m\"\u001b[39m: \u001b[38;5;28;01mFalse\u001b[39;00m}\n\u001b[1;32m     46\u001b[0m )\n\u001b[1;32m     48\u001b[0m \u001b[38;5;66;03m# Vérification de l'amélioration de la log-vraisemblance\u001b[39;00m\n\u001b[1;32m     49\u001b[0m \u001b[38;5;28;01mif\u001b[39;00m (result\u001b[38;5;241m.\u001b[39mfun \u001b[38;5;241m-\u001b[39m oldvalue) \u001b[38;5;241m<\u001b[39m \u001b[38;5;241m0\u001b[39m:\n",
      "File \u001b[0;32m~/Desktop/études/M2 MIA/Periode 1&2/NSA/article/src/pcllikf1.py:42\u001b[0m, in \u001b[0;36mpcllikf1\u001b[0;34m(thetav, U, Ind, P, no_TH, G, parv2l)\u001b[0m\n\u001b[1;32m     38\u001b[0m mean \u001b[38;5;241m=\u001b[39m theta[\u001b[38;5;124m'\u001b[39m\u001b[38;5;124mMu\u001b[39m\u001b[38;5;124m'\u001b[39m][g][[Ind[i, \u001b[38;5;241m0\u001b[39m], Ind[i, \u001b[38;5;241m1\u001b[39m]]]\n\u001b[1;32m     39\u001b[0m cov \u001b[38;5;241m=\u001b[39m theta[\u001b[38;5;124m'\u001b[39m\u001b[38;5;124mSigma\u001b[39m\u001b[38;5;124m'\u001b[39m][g][np\u001b[38;5;241m.\u001b[39mix_([Ind[i, \u001b[38;5;241m0\u001b[39m], Ind[i, \u001b[38;5;241m1\u001b[39m]],\n\u001b[1;32m     40\u001b[0m                                [Ind[i, \u001b[38;5;241m0\u001b[39m], Ind[i, \u001b[38;5;241m1\u001b[39m]])]\n\u001b[0;32m---> 42\u001b[0m up \u001b[38;5;241m=\u001b[39m \u001b[43mmultivariate_normal\u001b[49m\u001b[38;5;241;43m.\u001b[39;49m\u001b[43mcdf\u001b[49m\u001b[43m(\u001b[49m\u001b[43mupper\u001b[49m\u001b[43m,\u001b[49m\u001b[43m \u001b[49m\u001b[43mmean\u001b[49m\u001b[38;5;241;43m=\u001b[39;49m\u001b[43mmean\u001b[49m\u001b[43m,\u001b[49m\u001b[43m \u001b[49m\u001b[43mcov\u001b[49m\u001b[38;5;241;43m=\u001b[39;49m\u001b[43mcov\u001b[49m\u001b[43m)\u001b[49m\n\u001b[1;32m     43\u001b[0m lo \u001b[38;5;241m=\u001b[39m multivariate_normal\u001b[38;5;241m.\u001b[39mcdf(lower, mean\u001b[38;5;241m=\u001b[39mmean, cov\u001b[38;5;241m=\u001b[39mcov)\n\u001b[1;32m     44\u001b[0m \u001b[38;5;28;01mif\u001b[39;00m np\u001b[38;5;241m.\u001b[39misnan(up):\n",
      "File \u001b[0;32m~/anaconda3/lib/python3.10/site-packages/scipy/stats/_multivariate.py:718\u001b[0m, in \u001b[0;36mmultivariate_normal_gen.cdf\u001b[0;34m(self, x, mean, cov, allow_singular, maxpts, abseps, releps, lower_limit)\u001b[0m\n\u001b[1;32m    686\u001b[0m \u001b[38;5;28;01mdef\u001b[39;00m \u001b[38;5;21mcdf\u001b[39m(\u001b[38;5;28mself\u001b[39m, x, mean\u001b[38;5;241m=\u001b[39m\u001b[38;5;28;01mNone\u001b[39;00m, cov\u001b[38;5;241m=\u001b[39m\u001b[38;5;241m1\u001b[39m, allow_singular\u001b[38;5;241m=\u001b[39m\u001b[38;5;28;01mFalse\u001b[39;00m, maxpts\u001b[38;5;241m=\u001b[39m\u001b[38;5;28;01mNone\u001b[39;00m,\n\u001b[1;32m    687\u001b[0m         abseps\u001b[38;5;241m=\u001b[39m\u001b[38;5;241m1e-5\u001b[39m, releps\u001b[38;5;241m=\u001b[39m\u001b[38;5;241m1e-5\u001b[39m, \u001b[38;5;241m*\u001b[39m, lower_limit\u001b[38;5;241m=\u001b[39m\u001b[38;5;28;01mNone\u001b[39;00m):\n\u001b[1;32m    688\u001b[0m     \u001b[38;5;124;03m\"\"\"Multivariate normal cumulative distribution function.\u001b[39;00m\n\u001b[1;32m    689\u001b[0m \n\u001b[1;32m    690\u001b[0m \u001b[38;5;124;03m    Parameters\u001b[39;00m\n\u001b[0;32m   (...)\u001b[0m\n\u001b[1;32m    716\u001b[0m \n\u001b[1;32m    717\u001b[0m \u001b[38;5;124;03m    \"\"\"\u001b[39;00m\n\u001b[0;32m--> 718\u001b[0m     params \u001b[38;5;241m=\u001b[39m \u001b[38;5;28;43mself\u001b[39;49m\u001b[38;5;241;43m.\u001b[39;49m\u001b[43m_process_parameters\u001b[49m\u001b[43m(\u001b[49m\u001b[43mmean\u001b[49m\u001b[43m,\u001b[49m\u001b[43m \u001b[49m\u001b[43mcov\u001b[49m\u001b[43m,\u001b[49m\u001b[43m \u001b[49m\u001b[43mallow_singular\u001b[49m\u001b[43m)\u001b[49m\n\u001b[1;32m    719\u001b[0m     dim, mean, cov_object \u001b[38;5;241m=\u001b[39m params\n\u001b[1;32m    720\u001b[0m     cov \u001b[38;5;241m=\u001b[39m cov_object\u001b[38;5;241m.\u001b[39mcovariance\n",
      "File \u001b[0;32m~/anaconda3/lib/python3.10/site-packages/scipy/stats/_multivariate.py:417\u001b[0m, in \u001b[0;36mmultivariate_normal_gen._process_parameters\u001b[0;34m(self, mean, cov, allow_singular)\u001b[0m\n\u001b[1;32m    410\u001b[0m dim, mean, cov \u001b[38;5;241m=\u001b[39m \u001b[38;5;28mself\u001b[39m\u001b[38;5;241m.\u001b[39m_process_parameters_psd(\u001b[38;5;28;01mNone\u001b[39;00m, mean, cov)\n\u001b[1;32m    411\u001b[0m \u001b[38;5;66;03m# After input validation, some methods then processed the arrays\u001b[39;00m\n\u001b[1;32m    412\u001b[0m \u001b[38;5;66;03m# with a `_PSD` object and used that to perform computation.\u001b[39;00m\n\u001b[1;32m    413\u001b[0m \u001b[38;5;66;03m# To avoid branching statements in each method depending on whether\u001b[39;00m\n\u001b[1;32m    414\u001b[0m \u001b[38;5;66;03m# `cov` is an array or `Covariance` object, we always process the\u001b[39;00m\n\u001b[1;32m    415\u001b[0m \u001b[38;5;66;03m# array with `_PSD`, and then use wrapper that satisfies the\u001b[39;00m\n\u001b[1;32m    416\u001b[0m \u001b[38;5;66;03m# `Covariance` interface, `CovViaPSD`.\u001b[39;00m\n\u001b[0;32m--> 417\u001b[0m psd \u001b[38;5;241m=\u001b[39m \u001b[43m_PSD\u001b[49m\u001b[43m(\u001b[49m\u001b[43mcov\u001b[49m\u001b[43m,\u001b[49m\u001b[43m \u001b[49m\u001b[43mallow_singular\u001b[49m\u001b[38;5;241;43m=\u001b[39;49m\u001b[43mallow_singular\u001b[49m\u001b[43m)\u001b[49m\n\u001b[1;32m    418\u001b[0m cov_object \u001b[38;5;241m=\u001b[39m _covariance\u001b[38;5;241m.\u001b[39mCovViaPSD(psd)\n\u001b[1;32m    419\u001b[0m \u001b[38;5;28;01mreturn\u001b[39;00m dim, mean, cov_object\n",
      "File \u001b[0;32m~/anaconda3/lib/python3.10/site-packages/scipy/stats/_multivariate.py:162\u001b[0m, in \u001b[0;36m_PSD.__init__\u001b[0;34m(self, M, cond, rcond, lower, check_finite, allow_singular)\u001b[0m\n\u001b[1;32m    157\u001b[0m \u001b[38;5;28mself\u001b[39m\u001b[38;5;241m.\u001b[39m_M \u001b[38;5;241m=\u001b[39m np\u001b[38;5;241m.\u001b[39masarray(M)\n\u001b[1;32m    159\u001b[0m \u001b[38;5;66;03m# Compute the symmetric eigendecomposition.\u001b[39;00m\n\u001b[1;32m    160\u001b[0m \u001b[38;5;66;03m# Note that eigh takes care of array conversion, chkfinite,\u001b[39;00m\n\u001b[1;32m    161\u001b[0m \u001b[38;5;66;03m# and assertion that the matrix is square.\u001b[39;00m\n\u001b[0;32m--> 162\u001b[0m s, u \u001b[38;5;241m=\u001b[39m \u001b[43mscipy\u001b[49m\u001b[38;5;241;43m.\u001b[39;49m\u001b[43mlinalg\u001b[49m\u001b[38;5;241;43m.\u001b[39;49m\u001b[43meigh\u001b[49m\u001b[43m(\u001b[49m\u001b[43mM\u001b[49m\u001b[43m,\u001b[49m\u001b[43m \u001b[49m\u001b[43mlower\u001b[49m\u001b[38;5;241;43m=\u001b[39;49m\u001b[43mlower\u001b[49m\u001b[43m,\u001b[49m\u001b[43m \u001b[49m\u001b[43mcheck_finite\u001b[49m\u001b[38;5;241;43m=\u001b[39;49m\u001b[43mcheck_finite\u001b[49m\u001b[43m)\u001b[49m\n\u001b[1;32m    164\u001b[0m eps \u001b[38;5;241m=\u001b[39m _eigvalsh_to_eps(s, cond, rcond)\n\u001b[1;32m    165\u001b[0m \u001b[38;5;28;01mif\u001b[39;00m np\u001b[38;5;241m.\u001b[39mmin(s) \u001b[38;5;241m<\u001b[39m \u001b[38;5;241m-\u001b[39meps:\n",
      "File \u001b[0;32m~/anaconda3/lib/python3.10/site-packages/scipy/linalg/_decomp.py:461\u001b[0m, in \u001b[0;36meigh\u001b[0;34m(a, b, lower, eigvals_only, overwrite_a, overwrite_b, turbo, eigvals, type, check_finite, subset_by_index, subset_by_value, driver)\u001b[0m\n\u001b[1;32m    457\u001b[0m \u001b[38;5;28;01mif\u001b[39;00m driver \u001b[38;5;129;01mnot\u001b[39;00m \u001b[38;5;129;01min\u001b[39;00m drv_str:\n\u001b[1;32m    458\u001b[0m     \u001b[38;5;28;01mraise\u001b[39;00m \u001b[38;5;167;01mValueError\u001b[39;00m(\u001b[38;5;124m'\u001b[39m\u001b[38;5;124m\"\u001b[39m\u001b[38;5;132;01m{}\u001b[39;00m\u001b[38;5;124m\"\u001b[39m\u001b[38;5;124m is unknown. Possible values are \u001b[39m\u001b[38;5;124m\"\u001b[39m\u001b[38;5;124mNone\u001b[39m\u001b[38;5;124m\"\u001b[39m\u001b[38;5;124m, \u001b[39m\u001b[38;5;124m\"\u001b[39m\u001b[38;5;132;01m{}\u001b[39;00m\u001b[38;5;124m\"\u001b[39m\u001b[38;5;124m.\u001b[39m\u001b[38;5;124m'\u001b[39m\n\u001b[1;32m    459\u001b[0m                      \u001b[38;5;124m'\u001b[39m\u001b[38;5;124m'\u001b[39m\u001b[38;5;241m.\u001b[39mformat(driver, \u001b[38;5;124m'\u001b[39m\u001b[38;5;124m\"\u001b[39m\u001b[38;5;124m, \u001b[39m\u001b[38;5;124m\"\u001b[39m\u001b[38;5;124m'\u001b[39m\u001b[38;5;241m.\u001b[39mjoin(drv_str[\u001b[38;5;241m1\u001b[39m:])))\n\u001b[0;32m--> 461\u001b[0m a1 \u001b[38;5;241m=\u001b[39m \u001b[43m_asarray_validated\u001b[49m\u001b[43m(\u001b[49m\u001b[43ma\u001b[49m\u001b[43m,\u001b[49m\u001b[43m \u001b[49m\u001b[43mcheck_finite\u001b[49m\u001b[38;5;241;43m=\u001b[39;49m\u001b[43mcheck_finite\u001b[49m\u001b[43m)\u001b[49m\n\u001b[1;32m    462\u001b[0m \u001b[38;5;28;01mif\u001b[39;00m \u001b[38;5;28mlen\u001b[39m(a1\u001b[38;5;241m.\u001b[39mshape) \u001b[38;5;241m!=\u001b[39m \u001b[38;5;241m2\u001b[39m \u001b[38;5;129;01mor\u001b[39;00m a1\u001b[38;5;241m.\u001b[39mshape[\u001b[38;5;241m0\u001b[39m] \u001b[38;5;241m!=\u001b[39m a1\u001b[38;5;241m.\u001b[39mshape[\u001b[38;5;241m1\u001b[39m]:\n\u001b[1;32m    463\u001b[0m     \u001b[38;5;28;01mraise\u001b[39;00m \u001b[38;5;167;01mValueError\u001b[39;00m(\u001b[38;5;124m'\u001b[39m\u001b[38;5;124mexpected square \u001b[39m\u001b[38;5;124m\"\u001b[39m\u001b[38;5;124ma\u001b[39m\u001b[38;5;124m\"\u001b[39m\u001b[38;5;124m matrix\u001b[39m\u001b[38;5;124m'\u001b[39m)\n",
      "File \u001b[0;32m~/anaconda3/lib/python3.10/site-packages/scipy/_lib/_util.py:252\u001b[0m, in \u001b[0;36m_asarray_validated\u001b[0;34m(a, check_finite, sparse_ok, objects_ok, mask_ok, as_inexact)\u001b[0m\n\u001b[1;32m    250\u001b[0m         \u001b[38;5;28;01mraise\u001b[39;00m \u001b[38;5;167;01mValueError\u001b[39;00m(\u001b[38;5;124m'\u001b[39m\u001b[38;5;124mmasked arrays are not supported\u001b[39m\u001b[38;5;124m'\u001b[39m)\n\u001b[1;32m    251\u001b[0m toarray \u001b[38;5;241m=\u001b[39m np\u001b[38;5;241m.\u001b[39masarray_chkfinite \u001b[38;5;28;01mif\u001b[39;00m check_finite \u001b[38;5;28;01melse\u001b[39;00m np\u001b[38;5;241m.\u001b[39masarray\n\u001b[0;32m--> 252\u001b[0m a \u001b[38;5;241m=\u001b[39m \u001b[43mtoarray\u001b[49m\u001b[43m(\u001b[49m\u001b[43ma\u001b[49m\u001b[43m)\u001b[49m\n\u001b[1;32m    253\u001b[0m \u001b[38;5;28;01mif\u001b[39;00m \u001b[38;5;129;01mnot\u001b[39;00m objects_ok:\n\u001b[1;32m    254\u001b[0m     \u001b[38;5;28;01mif\u001b[39;00m a\u001b[38;5;241m.\u001b[39mdtype \u001b[38;5;129;01mis\u001b[39;00m np\u001b[38;5;241m.\u001b[39mdtype(\u001b[38;5;124m'\u001b[39m\u001b[38;5;124mO\u001b[39m\u001b[38;5;124m'\u001b[39m):\n",
      "File \u001b[0;32m~/anaconda3/lib/python3.10/site-packages/numpy/lib/function_base.py:627\u001b[0m, in \u001b[0;36masarray_chkfinite\u001b[0;34m(a, dtype, order)\u001b[0m\n\u001b[1;32m    625\u001b[0m a \u001b[38;5;241m=\u001b[39m asarray(a, dtype\u001b[38;5;241m=\u001b[39mdtype, order\u001b[38;5;241m=\u001b[39morder)\n\u001b[1;32m    626\u001b[0m \u001b[38;5;28;01mif\u001b[39;00m a\u001b[38;5;241m.\u001b[39mdtype\u001b[38;5;241m.\u001b[39mchar \u001b[38;5;129;01min\u001b[39;00m typecodes[\u001b[38;5;124m'\u001b[39m\u001b[38;5;124mAllFloat\u001b[39m\u001b[38;5;124m'\u001b[39m] \u001b[38;5;129;01mand\u001b[39;00m \u001b[38;5;129;01mnot\u001b[39;00m np\u001b[38;5;241m.\u001b[39misfinite(a)\u001b[38;5;241m.\u001b[39mall():\n\u001b[0;32m--> 627\u001b[0m     \u001b[38;5;28;01mraise\u001b[39;00m \u001b[38;5;167;01mValueError\u001b[39;00m(\n\u001b[1;32m    628\u001b[0m         \u001b[38;5;124m\"\u001b[39m\u001b[38;5;124marray must not contain infs or NaNs\u001b[39m\u001b[38;5;124m\"\u001b[39m)\n\u001b[1;32m    629\u001b[0m \u001b[38;5;28;01mreturn\u001b[39;00m a\n",
      "\u001b[0;31mValueError\u001b[0m: array must not contain infs or NaNs"
     ]
    }
   ],
   "source": [
    "out_2 = EMtw(theta0, pg, mX, Ind, G, P, no_TH, tol = 1e-4)\n",
    "\n",
    "print(\"pg \", out_1[\"pg\"])\n",
    "print(\"\\nmu \", out_1[\"mu\"])\n",
    "print(\"\\nSigma \", out_1[\"sigma\"])"
   ]
  }
 ],
 "metadata": {
  "kernelspec": {
   "display_name": "base",
   "language": "python",
   "name": "python3"
  },
  "language_info": {
   "codemirror_mode": {
    "name": "ipython",
    "version": 3
   },
   "file_extension": ".py",
   "mimetype": "text/x-python",
   "name": "python",
   "nbconvert_exporter": "python",
   "pygments_lexer": "ipython3",
   "version": "3.10.9"
  }
 },
 "nbformat": 4,
 "nbformat_minor": 2
}
